{
 "cells": [
  {
   "cell_type": "markdown",
   "metadata": {},
   "source": [
    "## Xente Fraud Detection\n",
    "Problem statement: Create a machine learning model to detect fraudulent transactions.\n",
    "\n",
    "Predict `FraudResult` probability"
   ]
  },
  {
   "cell_type": "markdown",
   "metadata": {},
   "source": [
    "Column Name\tDefinition\n",
    "- TransactionId - Unique ÔøΩtransaction identifier on platform\n",
    "- BatchId - Unique number assigned to a batch of transactions for processing\n",
    "- AccountId - Unique number identifying the customer on platform\n",
    "- SubscriptionId - Unique number identifying the customer subscription\n",
    "- CustomerId - Unique identifier attached to Account\n",
    "- CurrencyCode - Country currency\n",
    "- CountryCode - Numerical geographical code of country\n",
    "- ProviderId - Source provider of Item ÔøΩbought.\n",
    "- ProductId - Item name being bought.\n",
    "- ProductCategory - ProductIds are organized into these broader product categories.\n",
    "- ChannelId - Identifies if customer used web,Android, IOS, pay later or checkout.\n",
    "- Amount - Value of the transaction. Positive for debits from customer account and negative for credit into customer account\n",
    "- Value - Absolute value of the amount\n",
    "- TransactionStartTime - Transaction start time\n",
    "- PricingStrategy - Category of Xente's pricing structure for merchants\n",
    "- FraudResult - Fraud status of transaction 1 -yes or 0-No"
   ]
  },
  {
   "cell_type": "code",
   "execution_count": 271,
   "metadata": {
    "collapsed": true
   },
   "outputs": [],
   "source": [
    "# Load libraries"
   ]
  },
  {
   "cell_type": "code",
   "execution_count": 272,
   "metadata": {
    "collapsed": true
   },
   "outputs": [],
   "source": [
    "import numpy as np\n",
    "import pandas as pd\n",
    "import matplotlib.pyplot as plt\n",
    "import seaborn as sns\n",
    "sns.set();\n",
    "\n",
    "from sklearn.model_selection import train_test_split\n",
    "from sklearn.model_selection import KFold\n",
    "from sklearn.model_selection import cross_val_score\n",
    "from sklearn.model_selection import GridSearchCV\n",
    "from sklearn.metrics import classification_report\n",
    "from sklearn.metrics import confusion_matrix\n",
    "from sklearn.metrics import accuracy_score\n",
    "\n",
    "from sklearn.linear_model import LogisticRegression\n",
    "from sklearn.tree import DecisionTreeClassifier\n",
    "from sklearn.neighbors import KNeighborsClassifier\n",
    "from sklearn.discriminant_analysis import LinearDiscriminantAnalysis\n",
    "from sklearn.naive_bayes import GaussianNB\n",
    "from sklearn.svm import SVC\n",
    "from sklearn.ensemble import AdaBoostClassifier\n",
    "from sklearn.ensemble import GradientBoostingClassifier\n",
    "from sklearn.ensemble import RandomForestClassifier\n",
    "from sklearn.ensemble import ExtraTreesClassifier\n",
    "from sklearn.feature_selection import SelectKBest\n",
    "from sklearn.feature_selection import chi2"
   ]
  },
  {
   "cell_type": "code",
   "execution_count": 273,
   "metadata": {
    "collapsed": true
   },
   "outputs": [],
   "source": [
    "import warnings\n",
    "warnings.simplefilter(\"ignore\")"
   ]
  },
  {
   "cell_type": "code",
   "execution_count": 274,
   "metadata": {
    "collapsed": true
   },
   "outputs": [],
   "source": [
    "#from imblearn.over_sampling import SMOTE"
   ]
  },
  {
   "cell_type": "code",
   "execution_count": 275,
   "metadata": {
    "collapsed": true
   },
   "outputs": [],
   "source": [
    "# Load datasets\n",
    "df_test = pd.read_csv('../data/raw/test.csv')\n",
    "df_features_train = pd.read_csv('../data/interim/features_train.csv')\n",
    "df_features_test = pd.read_csv('../data/interim/features_test.csv')"
   ]
  },
  {
   "cell_type": "code",
   "execution_count": 276,
   "metadata": {},
   "outputs": [
    {
     "data": {
      "text/html": [
       "<div>\n",
       "<style scoped>\n",
       "    .dataframe tbody tr th:only-of-type {\n",
       "        vertical-align: middle;\n",
       "    }\n",
       "\n",
       "    .dataframe tbody tr th {\n",
       "        vertical-align: top;\n",
       "    }\n",
       "\n",
       "    .dataframe thead th {\n",
       "        text-align: right;\n",
       "    }\n",
       "</style>\n",
       "<table border=\"1\" class=\"dataframe\">\n",
       "  <thead>\n",
       "    <tr style=\"text-align: right;\">\n",
       "      <th></th>\n",
       "      <th>TransactionId</th>\n",
       "      <th>BatchId</th>\n",
       "      <th>AccountId</th>\n",
       "      <th>SubscriptionId</th>\n",
       "      <th>CustomerId</th>\n",
       "      <th>CurrencyCode</th>\n",
       "      <th>CountryCode</th>\n",
       "      <th>ProviderId</th>\n",
       "      <th>ProductId</th>\n",
       "      <th>ProductCategory</th>\n",
       "      <th>ChannelId</th>\n",
       "      <th>Amount</th>\n",
       "      <th>Value</th>\n",
       "      <th>TransactionStartTime</th>\n",
       "      <th>PricingStrategy</th>\n",
       "    </tr>\n",
       "  </thead>\n",
       "  <tbody>\n",
       "    <tr>\n",
       "      <th>0</th>\n",
       "      <td>TransactionId_50600</td>\n",
       "      <td>BatchId_35028</td>\n",
       "      <td>AccountId_2441</td>\n",
       "      <td>SubscriptionId_4426</td>\n",
       "      <td>CustomerId_2857</td>\n",
       "      <td>UGX</td>\n",
       "      <td>256</td>\n",
       "      <td>ProviderId_5</td>\n",
       "      <td>ProductId_3</td>\n",
       "      <td>airtime</td>\n",
       "      <td>ChannelId_3</td>\n",
       "      <td>1000.0</td>\n",
       "      <td>1000</td>\n",
       "      <td>2019-02-13T10:01:40Z</td>\n",
       "      <td>4</td>\n",
       "    </tr>\n",
       "    <tr>\n",
       "      <th>1</th>\n",
       "      <td>TransactionId_95109</td>\n",
       "      <td>BatchId_45139</td>\n",
       "      <td>AccountId_3439</td>\n",
       "      <td>SubscriptionId_2643</td>\n",
       "      <td>CustomerId_3874</td>\n",
       "      <td>UGX</td>\n",
       "      <td>256</td>\n",
       "      <td>ProviderId_5</td>\n",
       "      <td>ProductId_15</td>\n",
       "      <td>financial_services</td>\n",
       "      <td>ChannelId_3</td>\n",
       "      <td>2000.0</td>\n",
       "      <td>2000</td>\n",
       "      <td>2019-02-13T10:02:12Z</td>\n",
       "      <td>2</td>\n",
       "    </tr>\n",
       "    <tr>\n",
       "      <th>2</th>\n",
       "      <td>TransactionId_47357</td>\n",
       "      <td>BatchId_74887</td>\n",
       "      <td>AccountId_4841</td>\n",
       "      <td>SubscriptionId_3829</td>\n",
       "      <td>CustomerId_2857</td>\n",
       "      <td>UGX</td>\n",
       "      <td>256</td>\n",
       "      <td>ProviderId_4</td>\n",
       "      <td>ProductId_6</td>\n",
       "      <td>financial_services</td>\n",
       "      <td>ChannelId_2</td>\n",
       "      <td>-50.0</td>\n",
       "      <td>50</td>\n",
       "      <td>2019-02-13T10:02:30Z</td>\n",
       "      <td>2</td>\n",
       "    </tr>\n",
       "    <tr>\n",
       "      <th>3</th>\n",
       "      <td>TransactionId_28185</td>\n",
       "      <td>BatchId_11025</td>\n",
       "      <td>AccountId_2685</td>\n",
       "      <td>SubscriptionId_4626</td>\n",
       "      <td>CustomerId_3105</td>\n",
       "      <td>UGX</td>\n",
       "      <td>256</td>\n",
       "      <td>ProviderId_5</td>\n",
       "      <td>ProductId_10</td>\n",
       "      <td>airtime</td>\n",
       "      <td>ChannelId_3</td>\n",
       "      <td>3000.0</td>\n",
       "      <td>3000</td>\n",
       "      <td>2019-02-13T10:02:38Z</td>\n",
       "      <td>4</td>\n",
       "    </tr>\n",
       "    <tr>\n",
       "      <th>4</th>\n",
       "      <td>TransactionId_22140</td>\n",
       "      <td>BatchId_29804</td>\n",
       "      <td>AccountId_4841</td>\n",
       "      <td>SubscriptionId_3829</td>\n",
       "      <td>CustomerId_3105</td>\n",
       "      <td>UGX</td>\n",
       "      <td>256</td>\n",
       "      <td>ProviderId_4</td>\n",
       "      <td>ProductId_6</td>\n",
       "      <td>financial_services</td>\n",
       "      <td>ChannelId_2</td>\n",
       "      <td>-60.0</td>\n",
       "      <td>60</td>\n",
       "      <td>2019-02-13T10:02:58Z</td>\n",
       "      <td>2</td>\n",
       "    </tr>\n",
       "  </tbody>\n",
       "</table>\n",
       "</div>"
      ],
      "text/plain": [
       "         TransactionId        BatchId       AccountId       SubscriptionId  \\\n",
       "0  TransactionId_50600  BatchId_35028  AccountId_2441  SubscriptionId_4426   \n",
       "1  TransactionId_95109  BatchId_45139  AccountId_3439  SubscriptionId_2643   \n",
       "2  TransactionId_47357  BatchId_74887  AccountId_4841  SubscriptionId_3829   \n",
       "3  TransactionId_28185  BatchId_11025  AccountId_2685  SubscriptionId_4626   \n",
       "4  TransactionId_22140  BatchId_29804  AccountId_4841  SubscriptionId_3829   \n",
       "\n",
       "        CustomerId CurrencyCode  CountryCode    ProviderId     ProductId  \\\n",
       "0  CustomerId_2857          UGX          256  ProviderId_5   ProductId_3   \n",
       "1  CustomerId_3874          UGX          256  ProviderId_5  ProductId_15   \n",
       "2  CustomerId_2857          UGX          256  ProviderId_4   ProductId_6   \n",
       "3  CustomerId_3105          UGX          256  ProviderId_5  ProductId_10   \n",
       "4  CustomerId_3105          UGX          256  ProviderId_4   ProductId_6   \n",
       "\n",
       "      ProductCategory    ChannelId  Amount  Value  TransactionStartTime  \\\n",
       "0             airtime  ChannelId_3  1000.0   1000  2019-02-13T10:01:40Z   \n",
       "1  financial_services  ChannelId_3  2000.0   2000  2019-02-13T10:02:12Z   \n",
       "2  financial_services  ChannelId_2   -50.0     50  2019-02-13T10:02:30Z   \n",
       "3             airtime  ChannelId_3  3000.0   3000  2019-02-13T10:02:38Z   \n",
       "4  financial_services  ChannelId_2   -60.0     60  2019-02-13T10:02:58Z   \n",
       "\n",
       "   PricingStrategy  \n",
       "0                4  \n",
       "1                2  \n",
       "2                2  \n",
       "3                4  \n",
       "4                2  "
      ]
     },
     "execution_count": 276,
     "metadata": {},
     "output_type": "execute_result"
    }
   ],
   "source": [
    "# view data\n",
    "df_test.head()"
   ]
  },
  {
   "cell_type": "code",
   "execution_count": 277,
   "metadata": {},
   "outputs": [
    {
     "data": {
      "text/html": [
       "<div>\n",
       "<style scoped>\n",
       "    .dataframe tbody tr th:only-of-type {\n",
       "        vertical-align: middle;\n",
       "    }\n",
       "\n",
       "    .dataframe tbody tr th {\n",
       "        vertical-align: top;\n",
       "    }\n",
       "\n",
       "    .dataframe thead th {\n",
       "        text-align: right;\n",
       "    }\n",
       "</style>\n",
       "<table border=\"1\" class=\"dataframe\">\n",
       "  <thead>\n",
       "    <tr style=\"text-align: right;\">\n",
       "      <th></th>\n",
       "      <th>PricingStrategy</th>\n",
       "      <th>ChannelId_ChannelId_2</th>\n",
       "      <th>ChannelId_ChannelId_3</th>\n",
       "      <th>ChannelId_ChannelId_4</th>\n",
       "      <th>ChannelId_ChannelId_5</th>\n",
       "      <th>ProductCategory_data_bundles</th>\n",
       "      <th>ProductCategory_financial_services</th>\n",
       "      <th>ProductCategory_movies</th>\n",
       "      <th>ProductCategory_other</th>\n",
       "      <th>ProductCategory_retail</th>\n",
       "      <th>...</th>\n",
       "      <th>ProductId_ProductId_9</th>\n",
       "      <th>ProviderId_ProviderId_2</th>\n",
       "      <th>ProviderId_ProviderId_3</th>\n",
       "      <th>ProviderId_ProviderId_4</th>\n",
       "      <th>ProviderId_ProviderId_5</th>\n",
       "      <th>ProviderId_ProviderId_6</th>\n",
       "      <th>Value</th>\n",
       "      <th>Amount</th>\n",
       "      <th>FraudResult</th>\n",
       "      <th>value_log</th>\n",
       "    </tr>\n",
       "  </thead>\n",
       "  <tbody>\n",
       "    <tr>\n",
       "      <th>0</th>\n",
       "      <td>2</td>\n",
       "      <td>0</td>\n",
       "      <td>1</td>\n",
       "      <td>0</td>\n",
       "      <td>0</td>\n",
       "      <td>0</td>\n",
       "      <td>0</td>\n",
       "      <td>0</td>\n",
       "      <td>0</td>\n",
       "      <td>0</td>\n",
       "      <td>...</td>\n",
       "      <td>0</td>\n",
       "      <td>0</td>\n",
       "      <td>0</td>\n",
       "      <td>0</td>\n",
       "      <td>0</td>\n",
       "      <td>1</td>\n",
       "      <td>1000</td>\n",
       "      <td>1000.0</td>\n",
       "      <td>0.0</td>\n",
       "      <td>6.907755</td>\n",
       "    </tr>\n",
       "    <tr>\n",
       "      <th>1</th>\n",
       "      <td>2</td>\n",
       "      <td>1</td>\n",
       "      <td>0</td>\n",
       "      <td>0</td>\n",
       "      <td>0</td>\n",
       "      <td>0</td>\n",
       "      <td>1</td>\n",
       "      <td>0</td>\n",
       "      <td>0</td>\n",
       "      <td>0</td>\n",
       "      <td>...</td>\n",
       "      <td>0</td>\n",
       "      <td>0</td>\n",
       "      <td>0</td>\n",
       "      <td>1</td>\n",
       "      <td>0</td>\n",
       "      <td>0</td>\n",
       "      <td>20</td>\n",
       "      <td>-20.0</td>\n",
       "      <td>0.0</td>\n",
       "      <td>2.995732</td>\n",
       "    </tr>\n",
       "    <tr>\n",
       "      <th>2</th>\n",
       "      <td>2</td>\n",
       "      <td>0</td>\n",
       "      <td>1</td>\n",
       "      <td>0</td>\n",
       "      <td>0</td>\n",
       "      <td>0</td>\n",
       "      <td>0</td>\n",
       "      <td>0</td>\n",
       "      <td>0</td>\n",
       "      <td>0</td>\n",
       "      <td>...</td>\n",
       "      <td>0</td>\n",
       "      <td>0</td>\n",
       "      <td>0</td>\n",
       "      <td>0</td>\n",
       "      <td>0</td>\n",
       "      <td>1</td>\n",
       "      <td>500</td>\n",
       "      <td>500.0</td>\n",
       "      <td>0.0</td>\n",
       "      <td>6.214608</td>\n",
       "    </tr>\n",
       "    <tr>\n",
       "      <th>3</th>\n",
       "      <td>2</td>\n",
       "      <td>0</td>\n",
       "      <td>1</td>\n",
       "      <td>0</td>\n",
       "      <td>0</td>\n",
       "      <td>0</td>\n",
       "      <td>0</td>\n",
       "      <td>0</td>\n",
       "      <td>0</td>\n",
       "      <td>0</td>\n",
       "      <td>...</td>\n",
       "      <td>0</td>\n",
       "      <td>0</td>\n",
       "      <td>0</td>\n",
       "      <td>0</td>\n",
       "      <td>0</td>\n",
       "      <td>0</td>\n",
       "      <td>21800</td>\n",
       "      <td>20000.0</td>\n",
       "      <td>0.0</td>\n",
       "      <td>9.989665</td>\n",
       "    </tr>\n",
       "    <tr>\n",
       "      <th>4</th>\n",
       "      <td>2</td>\n",
       "      <td>1</td>\n",
       "      <td>0</td>\n",
       "      <td>0</td>\n",
       "      <td>0</td>\n",
       "      <td>0</td>\n",
       "      <td>1</td>\n",
       "      <td>0</td>\n",
       "      <td>0</td>\n",
       "      <td>0</td>\n",
       "      <td>...</td>\n",
       "      <td>0</td>\n",
       "      <td>0</td>\n",
       "      <td>0</td>\n",
       "      <td>1</td>\n",
       "      <td>0</td>\n",
       "      <td>0</td>\n",
       "      <td>644</td>\n",
       "      <td>-644.0</td>\n",
       "      <td>0.0</td>\n",
       "      <td>6.467699</td>\n",
       "    </tr>\n",
       "  </tbody>\n",
       "</table>\n",
       "<p>5 rows × 49 columns</p>\n",
       "</div>"
      ],
      "text/plain": [
       "   PricingStrategy  ChannelId_ChannelId_2  ChannelId_ChannelId_3  \\\n",
       "0                2                      0                      1   \n",
       "1                2                      1                      0   \n",
       "2                2                      0                      1   \n",
       "3                2                      0                      1   \n",
       "4                2                      1                      0   \n",
       "\n",
       "   ChannelId_ChannelId_4  ChannelId_ChannelId_5  ProductCategory_data_bundles  \\\n",
       "0                      0                      0                             0   \n",
       "1                      0                      0                             0   \n",
       "2                      0                      0                             0   \n",
       "3                      0                      0                             0   \n",
       "4                      0                      0                             0   \n",
       "\n",
       "   ProductCategory_financial_services  ProductCategory_movies  \\\n",
       "0                                   0                       0   \n",
       "1                                   1                       0   \n",
       "2                                   0                       0   \n",
       "3                                   0                       0   \n",
       "4                                   1                       0   \n",
       "\n",
       "   ProductCategory_other  ProductCategory_retail  ...  ProductId_ProductId_9  \\\n",
       "0                      0                       0  ...                      0   \n",
       "1                      0                       0  ...                      0   \n",
       "2                      0                       0  ...                      0   \n",
       "3                      0                       0  ...                      0   \n",
       "4                      0                       0  ...                      0   \n",
       "\n",
       "   ProviderId_ProviderId_2  ProviderId_ProviderId_3  ProviderId_ProviderId_4  \\\n",
       "0                        0                        0                        0   \n",
       "1                        0                        0                        1   \n",
       "2                        0                        0                        0   \n",
       "3                        0                        0                        0   \n",
       "4                        0                        0                        1   \n",
       "\n",
       "   ProviderId_ProviderId_5  ProviderId_ProviderId_6  Value   Amount  \\\n",
       "0                        0                        1   1000   1000.0   \n",
       "1                        0                        0     20    -20.0   \n",
       "2                        0                        1    500    500.0   \n",
       "3                        0                        0  21800  20000.0   \n",
       "4                        0                        0    644   -644.0   \n",
       "\n",
       "   FraudResult  value_log  \n",
       "0          0.0   6.907755  \n",
       "1          0.0   2.995732  \n",
       "2          0.0   6.214608  \n",
       "3          0.0   9.989665  \n",
       "4          0.0   6.467699  \n",
       "\n",
       "[5 rows x 49 columns]"
      ]
     },
     "execution_count": 277,
     "metadata": {},
     "output_type": "execute_result"
    }
   ],
   "source": [
    "# view data\n",
    "df_features_train.head()"
   ]
  },
  {
   "cell_type": "code",
   "execution_count": 278,
   "metadata": {
    "scrolled": true
   },
   "outputs": [
    {
     "data": {
      "text/html": [
       "<div>\n",
       "<style scoped>\n",
       "    .dataframe tbody tr th:only-of-type {\n",
       "        vertical-align: middle;\n",
       "    }\n",
       "\n",
       "    .dataframe tbody tr th {\n",
       "        vertical-align: top;\n",
       "    }\n",
       "\n",
       "    .dataframe thead th {\n",
       "        text-align: right;\n",
       "    }\n",
       "</style>\n",
       "<table border=\"1\" class=\"dataframe\">\n",
       "  <thead>\n",
       "    <tr style=\"text-align: right;\">\n",
       "      <th></th>\n",
       "      <th>PricingStrategy</th>\n",
       "      <th>ChannelId_ChannelId_2</th>\n",
       "      <th>ChannelId_ChannelId_3</th>\n",
       "      <th>ChannelId_ChannelId_4</th>\n",
       "      <th>ChannelId_ChannelId_5</th>\n",
       "      <th>ProductCategory_data_bundles</th>\n",
       "      <th>ProductCategory_financial_services</th>\n",
       "      <th>ProductCategory_movies</th>\n",
       "      <th>ProductCategory_other</th>\n",
       "      <th>ProductCategory_retail</th>\n",
       "      <th>...</th>\n",
       "      <th>ProductId_ProductId_9</th>\n",
       "      <th>ProviderId_ProviderId_2</th>\n",
       "      <th>ProviderId_ProviderId_3</th>\n",
       "      <th>ProviderId_ProviderId_4</th>\n",
       "      <th>ProviderId_ProviderId_5</th>\n",
       "      <th>ProviderId_ProviderId_6</th>\n",
       "      <th>Value</th>\n",
       "      <th>Amount</th>\n",
       "      <th>FraudResult</th>\n",
       "      <th>value_log</th>\n",
       "    </tr>\n",
       "  </thead>\n",
       "  <tbody>\n",
       "    <tr>\n",
       "      <th>0</th>\n",
       "      <td>4</td>\n",
       "      <td>0</td>\n",
       "      <td>1</td>\n",
       "      <td>0</td>\n",
       "      <td>0</td>\n",
       "      <td>0</td>\n",
       "      <td>0</td>\n",
       "      <td>0</td>\n",
       "      <td>0</td>\n",
       "      <td>0</td>\n",
       "      <td>...</td>\n",
       "      <td>0</td>\n",
       "      <td>0</td>\n",
       "      <td>0</td>\n",
       "      <td>0</td>\n",
       "      <td>1</td>\n",
       "      <td>0</td>\n",
       "      <td>1000</td>\n",
       "      <td>1000.0</td>\n",
       "      <td>NaN</td>\n",
       "      <td>6.907755</td>\n",
       "    </tr>\n",
       "    <tr>\n",
       "      <th>1</th>\n",
       "      <td>2</td>\n",
       "      <td>0</td>\n",
       "      <td>1</td>\n",
       "      <td>0</td>\n",
       "      <td>0</td>\n",
       "      <td>0</td>\n",
       "      <td>1</td>\n",
       "      <td>0</td>\n",
       "      <td>0</td>\n",
       "      <td>0</td>\n",
       "      <td>...</td>\n",
       "      <td>0</td>\n",
       "      <td>0</td>\n",
       "      <td>0</td>\n",
       "      <td>0</td>\n",
       "      <td>1</td>\n",
       "      <td>0</td>\n",
       "      <td>2000</td>\n",
       "      <td>2000.0</td>\n",
       "      <td>NaN</td>\n",
       "      <td>7.600902</td>\n",
       "    </tr>\n",
       "    <tr>\n",
       "      <th>2</th>\n",
       "      <td>2</td>\n",
       "      <td>1</td>\n",
       "      <td>0</td>\n",
       "      <td>0</td>\n",
       "      <td>0</td>\n",
       "      <td>0</td>\n",
       "      <td>1</td>\n",
       "      <td>0</td>\n",
       "      <td>0</td>\n",
       "      <td>0</td>\n",
       "      <td>...</td>\n",
       "      <td>0</td>\n",
       "      <td>0</td>\n",
       "      <td>0</td>\n",
       "      <td>1</td>\n",
       "      <td>0</td>\n",
       "      <td>0</td>\n",
       "      <td>50</td>\n",
       "      <td>-50.0</td>\n",
       "      <td>NaN</td>\n",
       "      <td>3.912023</td>\n",
       "    </tr>\n",
       "    <tr>\n",
       "      <th>3</th>\n",
       "      <td>4</td>\n",
       "      <td>0</td>\n",
       "      <td>1</td>\n",
       "      <td>0</td>\n",
       "      <td>0</td>\n",
       "      <td>0</td>\n",
       "      <td>0</td>\n",
       "      <td>0</td>\n",
       "      <td>0</td>\n",
       "      <td>0</td>\n",
       "      <td>...</td>\n",
       "      <td>0</td>\n",
       "      <td>0</td>\n",
       "      <td>0</td>\n",
       "      <td>0</td>\n",
       "      <td>1</td>\n",
       "      <td>0</td>\n",
       "      <td>3000</td>\n",
       "      <td>3000.0</td>\n",
       "      <td>NaN</td>\n",
       "      <td>8.006368</td>\n",
       "    </tr>\n",
       "    <tr>\n",
       "      <th>4</th>\n",
       "      <td>2</td>\n",
       "      <td>1</td>\n",
       "      <td>0</td>\n",
       "      <td>0</td>\n",
       "      <td>0</td>\n",
       "      <td>0</td>\n",
       "      <td>1</td>\n",
       "      <td>0</td>\n",
       "      <td>0</td>\n",
       "      <td>0</td>\n",
       "      <td>...</td>\n",
       "      <td>0</td>\n",
       "      <td>0</td>\n",
       "      <td>0</td>\n",
       "      <td>1</td>\n",
       "      <td>0</td>\n",
       "      <td>0</td>\n",
       "      <td>60</td>\n",
       "      <td>-60.0</td>\n",
       "      <td>NaN</td>\n",
       "      <td>4.094345</td>\n",
       "    </tr>\n",
       "  </tbody>\n",
       "</table>\n",
       "<p>5 rows × 49 columns</p>\n",
       "</div>"
      ],
      "text/plain": [
       "   PricingStrategy  ChannelId_ChannelId_2  ChannelId_ChannelId_3  \\\n",
       "0                4                      0                      1   \n",
       "1                2                      0                      1   \n",
       "2                2                      1                      0   \n",
       "3                4                      0                      1   \n",
       "4                2                      1                      0   \n",
       "\n",
       "   ChannelId_ChannelId_4  ChannelId_ChannelId_5  ProductCategory_data_bundles  \\\n",
       "0                      0                      0                             0   \n",
       "1                      0                      0                             0   \n",
       "2                      0                      0                             0   \n",
       "3                      0                      0                             0   \n",
       "4                      0                      0                             0   \n",
       "\n",
       "   ProductCategory_financial_services  ProductCategory_movies  \\\n",
       "0                                   0                       0   \n",
       "1                                   1                       0   \n",
       "2                                   1                       0   \n",
       "3                                   0                       0   \n",
       "4                                   1                       0   \n",
       "\n",
       "   ProductCategory_other  ProductCategory_retail  ...  ProductId_ProductId_9  \\\n",
       "0                      0                       0  ...                      0   \n",
       "1                      0                       0  ...                      0   \n",
       "2                      0                       0  ...                      0   \n",
       "3                      0                       0  ...                      0   \n",
       "4                      0                       0  ...                      0   \n",
       "\n",
       "   ProviderId_ProviderId_2  ProviderId_ProviderId_3  ProviderId_ProviderId_4  \\\n",
       "0                        0                        0                        0   \n",
       "1                        0                        0                        0   \n",
       "2                        0                        0                        1   \n",
       "3                        0                        0                        0   \n",
       "4                        0                        0                        1   \n",
       "\n",
       "   ProviderId_ProviderId_5  ProviderId_ProviderId_6  Value  Amount  \\\n",
       "0                        1                        0   1000  1000.0   \n",
       "1                        1                        0   2000  2000.0   \n",
       "2                        0                        0     50   -50.0   \n",
       "3                        1                        0   3000  3000.0   \n",
       "4                        0                        0     60   -60.0   \n",
       "\n",
       "   FraudResult  value_log  \n",
       "0          NaN   6.907755  \n",
       "1          NaN   7.600902  \n",
       "2          NaN   3.912023  \n",
       "3          NaN   8.006368  \n",
       "4          NaN   4.094345  \n",
       "\n",
       "[5 rows x 49 columns]"
      ]
     },
     "execution_count": 278,
     "metadata": {},
     "output_type": "execute_result"
    }
   ],
   "source": [
    "# view data\n",
    "df_features_test.head()"
   ]
  },
  {
   "cell_type": "code",
   "execution_count": 279,
   "metadata": {},
   "outputs": [
    {
     "name": "stdout",
     "output_type": "stream",
     "text": [
      "<class 'pandas.core.frame.DataFrame'>\n",
      "RangeIndex: 45019 entries, 0 to 45018\n",
      "Data columns (total 15 columns):\n",
      "TransactionId           45019 non-null object\n",
      "BatchId                 45019 non-null object\n",
      "AccountId               45019 non-null object\n",
      "SubscriptionId          45019 non-null object\n",
      "CustomerId              45019 non-null object\n",
      "CurrencyCode            45019 non-null object\n",
      "CountryCode             45019 non-null int64\n",
      "ProviderId              45019 non-null object\n",
      "ProductId               45019 non-null object\n",
      "ProductCategory         45019 non-null object\n",
      "ChannelId               45019 non-null object\n",
      "Amount                  45019 non-null float64\n",
      "Value                   45019 non-null int64\n",
      "TransactionStartTime    45019 non-null object\n",
      "PricingStrategy         45019 non-null int64\n",
      "dtypes: float64(1), int64(3), object(11)\n",
      "memory usage: 5.2+ MB\n"
     ]
    }
   ],
   "source": [
    "# dataset attribute types\n",
    "df_test.info()"
   ]
  },
  {
   "cell_type": "code",
   "execution_count": null,
   "metadata": {
    "collapsed": true
   },
   "outputs": [],
   "source": []
  },
  {
   "cell_type": "code",
   "execution_count": 300,
   "metadata": {
    "collapsed": true
   },
   "outputs": [],
   "source": [
    "from sklearn.feature_extraction.text import CountVectorizer"
   ]
  },
  {
   "cell_type": "code",
   "execution_count": 301,
   "metadata": {
    "collapsed": true
   },
   "outputs": [],
   "source": [
    "vec = CountVectorizer()"
   ]
  },
  {
   "cell_type": "code",
   "execution_count": null,
   "metadata": {
    "collapsed": true
   },
   "outputs": [],
   "source": []
  },
  {
   "cell_type": "code",
   "execution_count": null,
   "metadata": {
    "collapsed": true
   },
   "outputs": [],
   "source": []
  },
  {
   "cell_type": "code",
   "execution_count": 280,
   "metadata": {},
   "outputs": [
    {
     "name": "stdout",
     "output_type": "stream",
     "text": [
      "FraudResult                           1.000000\n",
      "Value                                 0.566739\n",
      "Amount                                0.557370\n",
      "value_log                             0.138169\n",
      "ProductId_ProductId_15                0.093570\n",
      "ProviderId_ProviderId_3               0.076205\n",
      "ProductId_ProductId_9                 0.051832\n",
      "ChannelId_ChannelId_3                 0.032811\n",
      "ProductCategory_financial_services    0.032375\n",
      "ProductCategory_transport             0.028099\n",
      "ProductId_ProductId_5                 0.028099\n",
      "ProductId_ProductId_13                0.022662\n",
      "ProviderId_ProviderId_5               0.022490\n",
      "ProductCategory_utility_bill          0.013499\n",
      "ProductId_ProductId_22                0.012086\n",
      "ProductId_ProductId_21                0.001774\n",
      "ProductId_ProductId_23               -0.000145\n",
      "ProductCategory_other                -0.000206\n",
      "ProductId_ProductId_12               -0.000206\n",
      "ProductId_ProductId_16               -0.000460\n",
      "ProviderId_ProviderId_2              -0.000617\n",
      "ProductId_ProductId_27               -0.000810\n",
      "ProductId_ProductId_7                -0.001349\n",
      "ProductCategory_movies               -0.001925\n",
      "ProductId_ProductId_24               -0.001925\n",
      "ProductId_ProductId_8                -0.002042\n",
      "ProductCategory_ticket               -0.002139\n",
      "ProductId_ProductId_20               -0.002139\n",
      "ProductId_ProductId_2                -0.002236\n",
      "ProductId_ProductId_14               -0.004100\n",
      "ProductId_ProductId_19               -0.004539\n",
      "ChannelId_ChannelId_5                -0.004732\n",
      "ProductCategory_tv                   -0.005234\n",
      "ProductId_ProductId_11               -0.005434\n",
      "ProductCategory_data_bundles         -0.005888\n",
      "ProductId_ProductId_4                -0.007217\n",
      "ProductId_ProductId_10               -0.015878\n",
      "ProductId_ProductId_3                -0.019851\n",
      "ProductId_ProductId_6                -0.031862\n",
      "ProviderId_ProviderId_6              -0.032070\n",
      "ChannelId_ChannelId_2                -0.033429\n",
      "PricingStrategy                      -0.033821\n",
      "ProviderId_ProviderId_4              -0.034272\n",
      "ChannelId_ChannelId_4                      NaN\n",
      "ProductCategory_retail                     NaN\n",
      "ProductId_ProductId_17                     NaN\n",
      "ProductId_ProductId_18                     NaN\n",
      "ProductId_ProductId_25                     NaN\n",
      "ProductId_ProductId_26                     NaN\n",
      "Name: FraudResult, dtype: float64 \n",
      "\n"
     ]
    }
   ],
   "source": [
    "corr = df_features_train.corr()\n",
    "print (corr['FraudResult'].sort_values(ascending=False), '\\n')"
   ]
  },
  {
   "cell_type": "markdown",
   "metadata": {},
   "source": [
    "The result above shows the positive and negative correlation of attributes with the 'FraudResult' attribute."
   ]
  },
  {
   "cell_type": "code",
   "execution_count": 281,
   "metadata": {
    "scrolled": true
   },
   "outputs": [],
   "source": [
    "df_features = df_features_train.drop(columns=['ChannelId_ChannelId_4','ProductCategory_retail','ProductId_ProductId_17',\n",
    "                                'ProductId_ProductId_18','ProductId_ProductId_25','ProductId_ProductId_26','FraudResult'])\n",
    "                                 "
   ]
  },
  {
   "cell_type": "code",
   "execution_count": 282,
   "metadata": {},
   "outputs": [
    {
     "data": {
      "text/html": [
       "<div>\n",
       "<style scoped>\n",
       "    .dataframe tbody tr th:only-of-type {\n",
       "        vertical-align: middle;\n",
       "    }\n",
       "\n",
       "    .dataframe tbody tr th {\n",
       "        vertical-align: top;\n",
       "    }\n",
       "\n",
       "    .dataframe thead th {\n",
       "        text-align: right;\n",
       "    }\n",
       "</style>\n",
       "<table border=\"1\" class=\"dataframe\">\n",
       "  <thead>\n",
       "    <tr style=\"text-align: right;\">\n",
       "      <th></th>\n",
       "      <th>PricingStrategy</th>\n",
       "      <th>ChannelId_ChannelId_2</th>\n",
       "      <th>ChannelId_ChannelId_3</th>\n",
       "      <th>ChannelId_ChannelId_5</th>\n",
       "      <th>ProductCategory_data_bundles</th>\n",
       "      <th>ProductCategory_financial_services</th>\n",
       "      <th>ProductCategory_movies</th>\n",
       "      <th>ProductCategory_other</th>\n",
       "      <th>ProductCategory_ticket</th>\n",
       "      <th>ProductCategory_transport</th>\n",
       "      <th>...</th>\n",
       "      <th>ProductId_ProductId_8</th>\n",
       "      <th>ProductId_ProductId_9</th>\n",
       "      <th>ProviderId_ProviderId_2</th>\n",
       "      <th>ProviderId_ProviderId_3</th>\n",
       "      <th>ProviderId_ProviderId_4</th>\n",
       "      <th>ProviderId_ProviderId_5</th>\n",
       "      <th>ProviderId_ProviderId_6</th>\n",
       "      <th>Value</th>\n",
       "      <th>Amount</th>\n",
       "      <th>value_log</th>\n",
       "    </tr>\n",
       "  </thead>\n",
       "  <tbody>\n",
       "    <tr>\n",
       "      <th>0</th>\n",
       "      <td>2</td>\n",
       "      <td>0</td>\n",
       "      <td>1</td>\n",
       "      <td>0</td>\n",
       "      <td>0</td>\n",
       "      <td>0</td>\n",
       "      <td>0</td>\n",
       "      <td>0</td>\n",
       "      <td>0</td>\n",
       "      <td>0</td>\n",
       "      <td>...</td>\n",
       "      <td>0</td>\n",
       "      <td>0</td>\n",
       "      <td>0</td>\n",
       "      <td>0</td>\n",
       "      <td>0</td>\n",
       "      <td>0</td>\n",
       "      <td>1</td>\n",
       "      <td>1000</td>\n",
       "      <td>1000.0</td>\n",
       "      <td>6.907755</td>\n",
       "    </tr>\n",
       "    <tr>\n",
       "      <th>1</th>\n",
       "      <td>2</td>\n",
       "      <td>1</td>\n",
       "      <td>0</td>\n",
       "      <td>0</td>\n",
       "      <td>0</td>\n",
       "      <td>1</td>\n",
       "      <td>0</td>\n",
       "      <td>0</td>\n",
       "      <td>0</td>\n",
       "      <td>0</td>\n",
       "      <td>...</td>\n",
       "      <td>0</td>\n",
       "      <td>0</td>\n",
       "      <td>0</td>\n",
       "      <td>0</td>\n",
       "      <td>1</td>\n",
       "      <td>0</td>\n",
       "      <td>0</td>\n",
       "      <td>20</td>\n",
       "      <td>-20.0</td>\n",
       "      <td>2.995732</td>\n",
       "    </tr>\n",
       "    <tr>\n",
       "      <th>2</th>\n",
       "      <td>2</td>\n",
       "      <td>0</td>\n",
       "      <td>1</td>\n",
       "      <td>0</td>\n",
       "      <td>0</td>\n",
       "      <td>0</td>\n",
       "      <td>0</td>\n",
       "      <td>0</td>\n",
       "      <td>0</td>\n",
       "      <td>0</td>\n",
       "      <td>...</td>\n",
       "      <td>0</td>\n",
       "      <td>0</td>\n",
       "      <td>0</td>\n",
       "      <td>0</td>\n",
       "      <td>0</td>\n",
       "      <td>0</td>\n",
       "      <td>1</td>\n",
       "      <td>500</td>\n",
       "      <td>500.0</td>\n",
       "      <td>6.214608</td>\n",
       "    </tr>\n",
       "    <tr>\n",
       "      <th>3</th>\n",
       "      <td>2</td>\n",
       "      <td>0</td>\n",
       "      <td>1</td>\n",
       "      <td>0</td>\n",
       "      <td>0</td>\n",
       "      <td>0</td>\n",
       "      <td>0</td>\n",
       "      <td>0</td>\n",
       "      <td>0</td>\n",
       "      <td>0</td>\n",
       "      <td>...</td>\n",
       "      <td>0</td>\n",
       "      <td>0</td>\n",
       "      <td>0</td>\n",
       "      <td>0</td>\n",
       "      <td>0</td>\n",
       "      <td>0</td>\n",
       "      <td>0</td>\n",
       "      <td>21800</td>\n",
       "      <td>20000.0</td>\n",
       "      <td>9.989665</td>\n",
       "    </tr>\n",
       "    <tr>\n",
       "      <th>4</th>\n",
       "      <td>2</td>\n",
       "      <td>1</td>\n",
       "      <td>0</td>\n",
       "      <td>0</td>\n",
       "      <td>0</td>\n",
       "      <td>1</td>\n",
       "      <td>0</td>\n",
       "      <td>0</td>\n",
       "      <td>0</td>\n",
       "      <td>0</td>\n",
       "      <td>...</td>\n",
       "      <td>0</td>\n",
       "      <td>0</td>\n",
       "      <td>0</td>\n",
       "      <td>0</td>\n",
       "      <td>1</td>\n",
       "      <td>0</td>\n",
       "      <td>0</td>\n",
       "      <td>644</td>\n",
       "      <td>-644.0</td>\n",
       "      <td>6.467699</td>\n",
       "    </tr>\n",
       "  </tbody>\n",
       "</table>\n",
       "<p>5 rows × 42 columns</p>\n",
       "</div>"
      ],
      "text/plain": [
       "   PricingStrategy  ChannelId_ChannelId_2  ChannelId_ChannelId_3  \\\n",
       "0                2                      0                      1   \n",
       "1                2                      1                      0   \n",
       "2                2                      0                      1   \n",
       "3                2                      0                      1   \n",
       "4                2                      1                      0   \n",
       "\n",
       "   ChannelId_ChannelId_5  ProductCategory_data_bundles  \\\n",
       "0                      0                             0   \n",
       "1                      0                             0   \n",
       "2                      0                             0   \n",
       "3                      0                             0   \n",
       "4                      0                             0   \n",
       "\n",
       "   ProductCategory_financial_services  ProductCategory_movies  \\\n",
       "0                                   0                       0   \n",
       "1                                   1                       0   \n",
       "2                                   0                       0   \n",
       "3                                   0                       0   \n",
       "4                                   1                       0   \n",
       "\n",
       "   ProductCategory_other  ProductCategory_ticket  ProductCategory_transport  \\\n",
       "0                      0                       0                          0   \n",
       "1                      0                       0                          0   \n",
       "2                      0                       0                          0   \n",
       "3                      0                       0                          0   \n",
       "4                      0                       0                          0   \n",
       "\n",
       "   ...  ProductId_ProductId_8  ProductId_ProductId_9  ProviderId_ProviderId_2  \\\n",
       "0  ...                      0                      0                        0   \n",
       "1  ...                      0                      0                        0   \n",
       "2  ...                      0                      0                        0   \n",
       "3  ...                      0                      0                        0   \n",
       "4  ...                      0                      0                        0   \n",
       "\n",
       "   ProviderId_ProviderId_3  ProviderId_ProviderId_4  ProviderId_ProviderId_5  \\\n",
       "0                        0                        0                        0   \n",
       "1                        0                        1                        0   \n",
       "2                        0                        0                        0   \n",
       "3                        0                        0                        0   \n",
       "4                        0                        1                        0   \n",
       "\n",
       "   ProviderId_ProviderId_6  Value   Amount  value_log  \n",
       "0                        1   1000   1000.0   6.907755  \n",
       "1                        0     20    -20.0   2.995732  \n",
       "2                        1    500    500.0   6.214608  \n",
       "3                        0  21800  20000.0   9.989665  \n",
       "4                        0    644   -644.0   6.467699  \n",
       "\n",
       "[5 rows x 42 columns]"
      ]
     },
     "execution_count": 282,
     "metadata": {},
     "output_type": "execute_result"
    }
   ],
   "source": [
    "df_features.head()"
   ]
  },
  {
   "cell_type": "code",
   "execution_count": null,
   "metadata": {
    "collapsed": true
   },
   "outputs": [],
   "source": []
  },
  {
   "cell_type": "code",
   "execution_count": 283,
   "metadata": {
    "collapsed": true
   },
   "outputs": [],
   "source": [
    "# Feature engr"
   ]
  },
  {
   "cell_type": "code",
   "execution_count": 284,
   "metadata": {
    "collapsed": true
   },
   "outputs": [],
   "source": [
    "# Function computing absolute difference from column mean\n",
    "#def abs_diff(x):\n",
    " #   return np.abs(x-np.mean(x))"
   ]
  },
  {
   "cell_type": "code",
   "execution_count": 285,
   "metadata": {
    "collapsed": true
   },
   "outputs": [],
   "source": [
    "# Apply it to the amount and store to new column\n",
    "#df_features['diff'] = abs_diff(df_features['Amount'])"
   ]
  },
  {
   "cell_type": "code",
   "execution_count": 286,
   "metadata": {
    "collapsed": true
   },
   "outputs": [],
   "source": [
    "df_features.drop(columns=['Amount'], inplace=True)"
   ]
  },
  {
   "cell_type": "markdown",
   "metadata": {},
   "source": [
    "#### Split-out Training and Validation dataset"
   ]
  },
  {
   "cell_type": "code",
   "execution_count": 287,
   "metadata": {
    "collapsed": true
   },
   "outputs": [],
   "source": [
    "X = df_features.values\n",
    "y = df_features_train['FraudResult']\n",
    "test_size = 0.20\n",
    "seed = 42\n",
    "X_train, X_test, y_train, y_test = train_test_split(X, y, test_size=test_size, random_state=seed)"
   ]
  },
  {
   "cell_type": "code",
   "execution_count": 288,
   "metadata": {
    "collapsed": true
   },
   "outputs": [],
   "source": [
    "#smote_algo = SMOTE(random_state=0)\n",
    "#smote_data_X, smote_data_Y = smote_algo.fit_sample(X_train, y_train)\n",
    "#smote_data_X = pd.DataFrame(data=smote_data_X, columns=df_features.columns)\n",
    "#smote_data_Y = pd.DataFrame(data=smote_data_Y, columns=[\"FraudResult\"])\n",
    "\n",
    "#smote_data = smote_data_X\n",
    "#smote_data[\"FraudResult\"] = smote_data_Y[\"FraudResult\"]"
   ]
  },
  {
   "cell_type": "code",
   "execution_count": 289,
   "metadata": {
    "collapsed": true
   },
   "outputs": [],
   "source": [
    "#sm = SMOTE(random_state=0)\n",
    "#x_train_new, y_train_new = sm.fit_sample(X_train, y_train)"
   ]
  },
  {
   "cell_type": "markdown",
   "metadata": {},
   "source": [
    "#### Evaluate Algorithms: Baseline"
   ]
  },
  {
   "cell_type": "code",
   "execution_count": 290,
   "metadata": {
    "collapsed": true
   },
   "outputs": [],
   "source": [
    "# Test options and evaluation metric\n",
    "num_folds = 10\n",
    "seed = 42\n",
    "scoring = 'accuracy'"
   ]
  },
  {
   "cell_type": "code",
   "execution_count": 291,
   "metadata": {
    "collapsed": true
   },
   "outputs": [],
   "source": [
    "# Spot-Check Algorithms\n",
    "models = []\n",
    "models.append(( 'LR' , LogisticRegression()))\n",
    "models.append(( 'LDA' , LinearDiscriminantAnalysis()))\n",
    "models.append(( 'KNN' , KNeighborsClassifier()))\n",
    "models.append(( 'CART' , DecisionTreeClassifier()))\n",
    "models.append(( 'NB' , GaussianNB()))\n",
    "#models.append(( 'SVM' , SVC()))\n",
    "models.append(( 'RF' , RandomForestClassifier()))"
   ]
  },
  {
   "cell_type": "markdown",
   "metadata": {},
   "source": [
    "The algorithms all use default tuning parameters. To be displayed are the mean and standard deviation of accuracy for each algorithm as it is calculated, the results will be collected for later use."
   ]
  },
  {
   "cell_type": "code",
   "execution_count": 292,
   "metadata": {},
   "outputs": [
    {
     "name": "stdout",
     "output_type": "stream",
     "text": [
      "LR: 0.998275 (0.000572)\n",
      "LDA: 0.998184 (0.000577)\n",
      "KNN: 0.999412 (0.000213)\n",
      "CART: 0.999347 (0.000331)\n",
      "NB: 0.996851 (0.000893)\n",
      "RF: 0.999412 (0.000276)\n"
     ]
    }
   ],
   "source": [
    "results = []\n",
    "names = []\n",
    "for name, model in models:\n",
    "    kfold = KFold(n_splits=num_folds, random_state=seed)\n",
    "    cv_results = cross_val_score(model, X_train, y_train, cv=kfold, scoring=scoring)\n",
    "    results.append(cv_results)\n",
    "    names.append(name)\n",
    "    msg = \"%s: %f (%f)\" % (name, cv_results.mean(), cv_results.std())\n",
    "    print(msg)"
   ]
  },
  {
   "cell_type": "code",
   "execution_count": 293,
   "metadata": {},
   "outputs": [
    {
     "data": {
      "image/png": "[encoded data removed]",
      "text/plain": [
       "<matplotlib.figure.Figure at 0x115e46ef0>"
      ]
     },
     "metadata": {},
     "output_type": "display_data"
    }
   ],
   "source": [
    "# Compare Algorithms\n",
    "fig = plt.figure(figsize=(8,7))\n",
    "fig.suptitle('Algorithm Comparison')\n",
    "ax = fig.add_subplot(111)\n",
    "plt.boxplot(results)\n",
    "ax.set_xticklabels(names)\n",
    "plt.show()"
   ]
  },
  {
   "cell_type": "code",
   "execution_count": 294,
   "metadata": {},
   "outputs": [
    {
     "name": "stdout",
     "output_type": "stream",
     "text": [
      "accuracy_score\n",
      "0.999895468562\n",
      " \n",
      "confusion_matrix\n",
      "[[19097     0]\n",
      " [    2    34]]\n",
      " \n",
      "classification_report\n",
      "              precision    recall  f1-score   support\n",
      "\n",
      "         0.0       1.00      1.00      1.00     19097\n",
      "         1.0       1.00      0.94      0.97        36\n",
      "\n",
      "   micro avg       1.00      1.00      1.00     19133\n",
      "   macro avg       1.00      0.97      0.99     19133\n",
      "weighted avg       1.00      1.00      1.00     19133\n",
      "\n"
     ]
    }
   ],
   "source": [
    "# Make predictions on validation dataset 6,\n",
    "alg = RandomForestClassifier(random_state=6)\n",
    "alg.fit(X_train, y_train)\n",
    "predictions = alg.predict(X_test)\n",
    "print('accuracy_score')\n",
    "print(accuracy_score(y_test, predictions))\n",
    "print(' ')\n",
    "print('confusion_matrix')\n",
    "print(confusion_matrix(y_test, predictions))\n",
    "print(' ')\n",
    "print('classification_report')\n",
    "print(classification_report(y_test, predictions))"
   ]
  },
  {
   "cell_type": "code",
   "execution_count": null,
   "metadata": {
    "collapsed": true
   },
   "outputs": [],
   "source": []
  },
  {
   "cell_type": "code",
   "execution_count": null,
   "metadata": {
    "collapsed": true
   },
   "outputs": [],
   "source": []
  },
  {
   "cell_type": "code",
   "execution_count": 295,
   "metadata": {
    "collapsed": true
   },
   "outputs": [],
   "source": [
    "# Find the best value for max_depth among values 2, 5 and 10#\n",
    "#grid_search = GridSearchCV(\n",
    "#  RandomForestClassifier(random_state=6), param_grid={'max_depth': [2, 5, 10,30]})\n",
    "#best_value = grid_search.fit(\n",
    "#  X_train, y_train).best_params_['max_depth']\n"
   ]
  },
  {
   "cell_type": "code",
   "execution_count": 296,
   "metadata": {
    "collapsed": true
   },
   "outputs": [],
   "source": [
    "# Using the best value from above, fit a random forest\n",
    "#clf = RandomForestClassifier(\n",
    "#  random_state=6, max_depth=best_value).fit(X_train, y_train)"
   ]
  },
  {
   "cell_type": "code",
   "execution_count": 297,
   "metadata": {
    "collapsed": true
   },
   "outputs": [],
   "source": [
    "# Apply SelectKBest with chi2 and pick top 100 features\n",
    "#from sklearn.feature_selection import SelectKBest\n",
    "#from sklearn.feature_selection import chi2\n",
    "#vt = SelectKBest(chi2, k=41).fit(X_train, y_train)"
   ]
  },
  {
   "cell_type": "code",
   "execution_count": 298,
   "metadata": {
    "collapsed": true
   },
   "outputs": [],
   "source": [
    "# Create a new dataset only containing the selected features\n",
    "#X_train_reduced = vt.transform(X_train)"
   ]
  },
  {
   "cell_type": "code",
   "execution_count": 299,
   "metadata": {},
   "outputs": [],
   "source": [
    "#X_train_reduced[1]"
   ]
  },
  {
   "cell_type": "code",
   "execution_count": 122,
   "metadata": {},
   "outputs": [
    {
     "name": "stdout",
     "output_type": "stream",
     "text": [
      "accuracy_score\n",
      "0.999843202843\n",
      " \n",
      "confusion_matrix\n",
      "[[19097     0]\n",
      " [    3    33]]\n",
      " \n",
      "classification_report\n",
      "              precision    recall  f1-score   support\n",
      "\n",
      "         0.0       1.00      1.00      1.00     19097\n",
      "         1.0       1.00      0.92      0.96        36\n",
      "\n",
      "   micro avg       1.00      1.00      1.00     19133\n",
      "   macro avg       1.00      0.96      0.98     19133\n",
      "weighted avg       1.00      1.00      1.00     19133\n",
      "\n"
     ]
    }
   ],
   "source": [
    "# Make predictions on validation dataset\n",
    "predictions = clf.predict(X_test)\n",
    "print('accuracy_score')\n",
    "print(accuracy_score(y_test, predictions))\n",
    "print(' ')\n",
    "print('confusion_matrix')\n",
    "print(confusion_matrix(y_test, predictions))\n",
    "print(' ')\n",
    "print('classification_report')\n",
    "print(classification_report(y_test, predictions))"
   ]
  },
  {
   "cell_type": "code",
   "execution_count": null,
   "metadata": {
    "collapsed": true
   },
   "outputs": [],
   "source": []
  },
  {
   "cell_type": "code",
   "execution_count": null,
   "metadata": {
    "collapsed": true
   },
   "outputs": [],
   "source": []
  },
  {
   "cell_type": "code",
   "execution_count": null,
   "metadata": {
    "collapsed": true
   },
   "outputs": [],
   "source": []
  },
  {
   "cell_type": "code",
   "execution_count": 123,
   "metadata": {
    "collapsed": true
   },
   "outputs": [],
   "source": [
    "# Use model to make predictions on new data"
   ]
  },
  {
   "cell_type": "code",
   "execution_count": 238,
   "metadata": {
    "collapsed": true
   },
   "outputs": [],
   "source": [
    "# get Ids\n",
    "df_submission = df_test[['TransactionId']]"
   ]
  },
  {
   "cell_type": "code",
   "execution_count": 239,
   "metadata": {
    "collapsed": true
   },
   "outputs": [],
   "source": [
    "df_features_test = df_features_test.drop(columns=['ChannelId_ChannelId_4','ProductCategory_retail','ProductId_ProductId_17',\n",
    "                                'ProductId_ProductId_18','ProductId_ProductId_25','ProductId_ProductId_26','FraudResult'])\n",
    "                                 "
   ]
  },
  {
   "cell_type": "code",
   "execution_count": null,
   "metadata": {
    "collapsed": true
   },
   "outputs": [],
   "source": []
  },
  {
   "cell_type": "code",
   "execution_count": 240,
   "metadata": {
    "collapsed": true
   },
   "outputs": [],
   "source": [
    "# Make predictions on new dataset\n",
    "predictions = alg.predict(df_features_test.values)"
   ]
  },
  {
   "cell_type": "code",
   "execution_count": 241,
   "metadata": {
    "collapsed": true
   },
   "outputs": [],
   "source": [
    "df_submission['FraudResult'] = predictions"
   ]
  },
  {
   "cell_type": "code",
   "execution_count": 242,
   "metadata": {
    "collapsed": true
   },
   "outputs": [],
   "source": [
    "#df_submission['FraudResult'] = df_submission.FraudResult.apply(lambda x: int(x))"
   ]
  },
  {
   "cell_type": "code",
   "execution_count": 243,
   "metadata": {
    "collapsed": true
   },
   "outputs": [],
   "source": [
    "df_submission.to_csv('../data/interim/submission.csv',index=False)"
   ]
  },
  {
   "cell_type": "markdown",
   "metadata": {
    "collapsed": true
   },
   "source": [
    "<b>NOTES<b>"
   ]
  },
  {
   "cell_type": "markdown",
   "metadata": {},
   "source": [
    "exprimenting with random_state of randomforest had a major effect on the f1-score value"
   ]
  },
  {
   "cell_type": "code",
   "execution_count": null,
   "metadata": {
    "collapsed": true
   },
   "outputs": [],
   "source": []
  }
 ],
 "metadata": {
  "kernelspec": {
   "display_name": "Python 3",
   "language": "python",
   "name": "python3"
  },
  "language_info": {
   "codemirror_mode": {
    "name": "ipython",
    "version": 3
   },
   "file_extension": ".py",
   "mimetype": "text/x-python",
   "name": "python",
   "nbconvert_exporter": "python",
   "pygments_lexer": "ipython3",
   "version": "3.7.1"
  }
 },
 "nbformat": 4,
 "nbformat_minor": 2
}
