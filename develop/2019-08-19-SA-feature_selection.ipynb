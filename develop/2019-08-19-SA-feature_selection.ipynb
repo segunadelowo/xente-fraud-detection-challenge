{
 "cells": [
  {
   "cell_type": "markdown",
   "metadata": {},
   "source": [
    "## Xente Fraud Detection: Feature Selection\n",
    "Competition : https://zindi.africa/competitions/xente-fraud-detection-challenge\n",
    "\n",
    "Problem statement: Create a machine learning model to detect fraudulent transactions.\n",
    "\n",
    "Predict `FraudResult` probability\n",
    "\n",
    "Evaluation: The error metric for this competition is the `F1 score`, which ranges from 0 (total failure) to 1 (perfect score). Hence, the closer your score is to 1, the better your model."
   ]
  },
  {
   "cell_type": "markdown",
   "metadata": {},
   "source": [
    "## Feature Selection\n",
    "\n",
    "In the following cells, a group of variables will be selected, the most predictive ones, to build the machine learning models. "
   ]
  },
  {
   "cell_type": "code",
   "execution_count": 4,
   "metadata": {
    "collapsed": true
   },
   "outputs": [],
   "source": [
    "# Load libraries\n",
    "\n",
    "# to handle datasets\n",
    "import pandas as pd\n",
    "import numpy as np\n",
    "\n",
    "# for plotting\n",
    "import matplotlib.pyplot as plt\n",
    "%matplotlib inline\n",
    "\n",
    "# to build the models\n",
    "from sklearn.linear_model import Lasso\n",
    "from sklearn.feature_selection import SelectFromModel\n",
    "\n",
    "# to visualise al the columns in the dataframe\n",
    "pd.pandas.set_option('display.max_columns', None)\n",
    "\n",
    "# for feature extraction with Univariate Statistical Tests (Chi-squared for classification)\n",
    "from numpy import set_printoptions\n",
    "from sklearn.feature_selection import SelectKBest\n",
    "from sklearn.feature_selection import chi2\n",
    "\n",
    "# for feature extraction with RFE\n",
    "from sklearn.feature_selection import RFE\n",
    "from sklearn.linear_model import LogisticRegression\n",
    "\n",
    "# for feature importance\n",
    "from sklearn.ensemble import ExtraTreesClassifier"
   ]
  },
  {
   "cell_type": "code",
   "execution_count": 5,
   "metadata": {
    "collapsed": true
   },
   "outputs": [],
   "source": [
    "import warnings\n",
    "warnings.simplefilter(\"ignore\")\n",
    "\n",
    "# to display all the columns of the dataframe in the notebook\n",
    "pd.pandas.set_option('display.max_columns', None)"
   ]
  },
  {
   "cell_type": "code",
   "execution_count": 6,
   "metadata": {},
   "outputs": [
    {
     "data": {
      "text/html": [
       "<div>\n",
       "<style scoped>\n",
       "    .dataframe tbody tr th:only-of-type {\n",
       "        vertical-align: middle;\n",
       "    }\n",
       "\n",
       "    .dataframe tbody tr th {\n",
       "        vertical-align: top;\n",
       "    }\n",
       "\n",
       "    .dataframe thead th {\n",
       "        text-align: right;\n",
       "    }\n",
       "</style>\n",
       "<table border=\"1\" class=\"dataframe\">\n",
       "  <thead>\n",
       "    <tr style=\"text-align: right;\">\n",
       "      <th></th>\n",
       "      <th>TransactionId</th>\n",
       "      <th>FraudResult</th>\n",
       "      <th>ChannelId</th>\n",
       "      <th>PricingStrategy</th>\n",
       "      <th>ProductCategory</th>\n",
       "      <th>ProductId</th>\n",
       "      <th>ProviderId</th>\n",
       "      <th>Value</th>\n",
       "      <th>Transaction_year</th>\n",
       "      <th>Transaction_month</th>\n",
       "      <th>Transaction_day</th>\n",
       "      <th>Transaction_hour</th>\n",
       "      <th>Transaction_minute</th>\n",
       "    </tr>\n",
       "  </thead>\n",
       "  <tbody>\n",
       "    <tr>\n",
       "      <th>0</th>\n",
       "      <td>TransactionId_91392</td>\n",
       "      <td>0.0</td>\n",
       "      <td>0.666667</td>\n",
       "      <td>1.0</td>\n",
       "      <td>0.625</td>\n",
       "      <td>0.727273</td>\n",
       "      <td>0.8</td>\n",
       "      <td>0.448181</td>\n",
       "      <td>1.0</td>\n",
       "      <td>0.000000</td>\n",
       "      <td>0.733333</td>\n",
       "      <td>0.478261</td>\n",
       "      <td>0.847458</td>\n",
       "    </tr>\n",
       "    <tr>\n",
       "      <th>1</th>\n",
       "      <td>TransactionId_119416</td>\n",
       "      <td>0.0</td>\n",
       "      <td>0.666667</td>\n",
       "      <td>0.5</td>\n",
       "      <td>0.625</td>\n",
       "      <td>0.681818</td>\n",
       "      <td>0.2</td>\n",
       "      <td>0.409980</td>\n",
       "      <td>1.0</td>\n",
       "      <td>0.000000</td>\n",
       "      <td>0.600000</td>\n",
       "      <td>0.739130</td>\n",
       "      <td>0.186441</td>\n",
       "    </tr>\n",
       "    <tr>\n",
       "      <th>2</th>\n",
       "      <td>TransactionId_124012</td>\n",
       "      <td>0.0</td>\n",
       "      <td>0.666667</td>\n",
       "      <td>0.5</td>\n",
       "      <td>0.625</td>\n",
       "      <td>0.681818</td>\n",
       "      <td>0.2</td>\n",
       "      <td>0.448181</td>\n",
       "      <td>0.0</td>\n",
       "      <td>0.909091</td>\n",
       "      <td>0.700000</td>\n",
       "      <td>0.260870</td>\n",
       "      <td>0.576271</td>\n",
       "    </tr>\n",
       "    <tr>\n",
       "      <th>3</th>\n",
       "      <td>TransactionId_12251</td>\n",
       "      <td>0.0</td>\n",
       "      <td>0.333333</td>\n",
       "      <td>0.5</td>\n",
       "      <td>0.750</td>\n",
       "      <td>0.636364</td>\n",
       "      <td>0.4</td>\n",
       "      <td>0.403209</td>\n",
       "      <td>1.0</td>\n",
       "      <td>0.090909</td>\n",
       "      <td>0.000000</td>\n",
       "      <td>0.739130</td>\n",
       "      <td>0.762712</td>\n",
       "    </tr>\n",
       "    <tr>\n",
       "      <th>4</th>\n",
       "      <td>TransactionId_27059</td>\n",
       "      <td>0.0</td>\n",
       "      <td>0.666667</td>\n",
       "      <td>0.5</td>\n",
       "      <td>0.625</td>\n",
       "      <td>0.727273</td>\n",
       "      <td>0.2</td>\n",
       "      <td>0.403209</td>\n",
       "      <td>1.0</td>\n",
       "      <td>0.000000</td>\n",
       "      <td>0.466667</td>\n",
       "      <td>0.521739</td>\n",
       "      <td>0.355932</td>\n",
       "    </tr>\n",
       "  </tbody>\n",
       "</table>\n",
       "</div>"
      ],
      "text/plain": [
       "          TransactionId  FraudResult  ChannelId  PricingStrategy  \\\n",
       "0   TransactionId_91392          0.0   0.666667              1.0   \n",
       "1  TransactionId_119416          0.0   0.666667              0.5   \n",
       "2  TransactionId_124012          0.0   0.666667              0.5   \n",
       "3   TransactionId_12251          0.0   0.333333              0.5   \n",
       "4   TransactionId_27059          0.0   0.666667              0.5   \n",
       "\n",
       "   ProductCategory  ProductId  ProviderId     Value  Transaction_year  \\\n",
       "0            0.625   0.727273         0.8  0.448181               1.0   \n",
       "1            0.625   0.681818         0.2  0.409980               1.0   \n",
       "2            0.625   0.681818         0.2  0.448181               0.0   \n",
       "3            0.750   0.636364         0.4  0.403209               1.0   \n",
       "4            0.625   0.727273         0.2  0.403209               1.0   \n",
       "\n",
       "   Transaction_month  Transaction_day  Transaction_hour  Transaction_minute  \n",
       "0           0.000000         0.733333          0.478261            0.847458  \n",
       "1           0.000000         0.600000          0.739130            0.186441  \n",
       "2           0.909091         0.700000          0.260870            0.576271  \n",
       "3           0.090909         0.000000          0.739130            0.762712  \n",
       "4           0.000000         0.466667          0.521739            0.355932  "
      ]
     },
     "execution_count": 6,
     "metadata": {},
     "output_type": "execute_result"
    }
   ],
   "source": [
    "# Load datasets\n",
    "X_train = pd.read_csv('../data/processed/x_train.csv')\n",
    "X_test = pd.read_csv('../data/processed/x_test.csv')\n",
    "\n",
    "X_test.head()"
   ]
  },
  {
   "cell_type": "code",
   "execution_count": 7,
   "metadata": {
    "collapsed": true
   },
   "outputs": [],
   "source": [
    "# capture the target\n",
    "y_train = X_train['FraudResult']\n",
    "y_test = X_test['FraudResult']\n",
    "\n",
    "# drop unnecessary variables from our training and testing sets\n",
    "X_train.drop(['FraudResult','TransactionId'], axis=1, inplace=True)\n",
    "X_test.drop(['FraudResult','TransactionId'], axis=1, inplace=True)"
   ]
  },
  {
   "cell_type": "code",
   "execution_count": null,
   "metadata": {
    "collapsed": true
   },
   "outputs": [],
   "source": []
  },
  {
   "cell_type": "markdown",
   "metadata": {},
   "source": [
    "### Feature Selection\n",
    "\n",
    "A few techniques will be used for this."
   ]
  },
  {
   "cell_type": "markdown",
   "metadata": {},
   "source": [
    "#### Feature Extraction with Univariate Statistical Tests (Chi-squared for classification)"
   ]
  },
  {
   "cell_type": "code",
   "execution_count": 8,
   "metadata": {
    "collapsed": true
   },
   "outputs": [],
   "source": [
    "X = X_train.values\n",
    "Y = y_train.values"
   ]
  },
  {
   "cell_type": "code",
   "execution_count": 9,
   "metadata": {
    "collapsed": true
   },
   "outputs": [],
   "source": [
    "# feature extraction\n",
    "test = SelectKBest(score_func=chi2, k=5)\n",
    "fit = test.fit(X, Y)"
   ]
  },
  {
   "cell_type": "code",
   "execution_count": 14,
   "metadata": {},
   "outputs": [
    {
     "name": "stdout",
     "output_type": "stream",
     "text": [
      "[  5.848   5.716   1.387   7.233  62.464  80.087   4.381   3.218   1.501\n",
      "   0.511   0.328]\n"
     ]
    }
   ],
   "source": [
    "# summarize scores\n",
    "set_printoptions(precision=3)\n",
    "print(fit.scores_)\n",
    "features = fit.transform(X)"
   ]
  },
  {
   "cell_type": "code",
   "execution_count": 15,
   "metadata": {},
   "outputs": [
    {
     "name": "stdout",
     "output_type": "stream",
     "text": [
      "[[ 0.333  0.5    0.636  0.4    0.254]\n",
      " [ 0.333  1.     0.682  0.4    0.403]\n",
      " [ 0.667  0.5    0.682  0.2    0.493]\n",
      " [ 0.667  0.5    0.727  0.2    0.448]\n",
      " [ 0.667  0.5    0.682  0.2    0.358]]\n"
     ]
    }
   ],
   "source": [
    "# summarize selected features\n",
    "print(features[0:5,:])"
   ]
  },
  {
   "cell_type": "code",
   "execution_count": 16,
   "metadata": {},
   "outputs": [
    {
     "data": {
      "text/plain": [
       "array([[ 0.333,  0.5  ,  0.636,  0.4  ,  0.254],\n",
       "       [ 0.333,  1.   ,  0.682,  0.4  ,  0.403],\n",
       "       [ 0.667,  0.5  ,  0.682,  0.2  ,  0.493],\n",
       "       ..., \n",
       "       [ 0.667,  0.5  ,  0.727,  0.2  ,  0.43 ],\n",
       "       [ 0.667,  0.5  ,  0.   ,  0.2  ,  0.448],\n",
       "       [ 0.667,  0.5  ,  0.727,  0.2  ,  0.403]])"
      ]
     },
     "execution_count": 16,
     "metadata": {},
     "output_type": "execute_result"
    }
   ],
   "source": [
    "features"
   ]
  },
  {
   "cell_type": "code",
   "execution_count": 17,
   "metadata": {},
   "outputs": [
    {
     "data": {
      "text/plain": [
       "array([[ 0.333,  0.5  ,  0.75 ,  0.636,  0.4  ,  0.254,  1.   ,  0.   ,\n",
       "         0.4  ,  0.826,  0.   ]])"
      ]
     },
     "execution_count": 17,
     "metadata": {},
     "output_type": "execute_result"
    }
   ],
   "source": [
    "X[0:1]"
   ]
  },
  {
   "cell_type": "code",
   "execution_count": 18,
   "metadata": {},
   "outputs": [
    {
     "data": {
      "text/html": [
       "<div>\n",
       "<style scoped>\n",
       "    .dataframe tbody tr th:only-of-type {\n",
       "        vertical-align: middle;\n",
       "    }\n",
       "\n",
       "    .dataframe tbody tr th {\n",
       "        vertical-align: top;\n",
       "    }\n",
       "\n",
       "    .dataframe thead th {\n",
       "        text-align: right;\n",
       "    }\n",
       "</style>\n",
       "<table border=\"1\" class=\"dataframe\">\n",
       "  <thead>\n",
       "    <tr style=\"text-align: right;\">\n",
       "      <th></th>\n",
       "      <th>ChannelId</th>\n",
       "      <th>PricingStrategy</th>\n",
       "      <th>ProductCategory</th>\n",
       "      <th>ProductId</th>\n",
       "      <th>ProviderId</th>\n",
       "      <th>Value</th>\n",
       "      <th>Transaction_year</th>\n",
       "      <th>Transaction_month</th>\n",
       "      <th>Transaction_day</th>\n",
       "      <th>Transaction_hour</th>\n",
       "      <th>Transaction_minute</th>\n",
       "    </tr>\n",
       "  </thead>\n",
       "  <tbody>\n",
       "    <tr>\n",
       "      <th>0</th>\n",
       "      <td>0.333333</td>\n",
       "      <td>0.5</td>\n",
       "      <td>0.750</td>\n",
       "      <td>0.636364</td>\n",
       "      <td>0.4</td>\n",
       "      <td>0.253815</td>\n",
       "      <td>1.0</td>\n",
       "      <td>0.000000</td>\n",
       "      <td>0.400000</td>\n",
       "      <td>0.826087</td>\n",
       "      <td>0.000000</td>\n",
       "    </tr>\n",
       "    <tr>\n",
       "      <th>1</th>\n",
       "      <td>0.333333</td>\n",
       "      <td>1.0</td>\n",
       "      <td>0.625</td>\n",
       "      <td>0.681818</td>\n",
       "      <td>0.4</td>\n",
       "      <td>0.403209</td>\n",
       "      <td>0.0</td>\n",
       "      <td>0.909091</td>\n",
       "      <td>0.466667</td>\n",
       "      <td>0.304348</td>\n",
       "      <td>0.016949</td>\n",
       "    </tr>\n",
       "    <tr>\n",
       "      <th>2</th>\n",
       "      <td>0.666667</td>\n",
       "      <td>0.5</td>\n",
       "      <td>0.625</td>\n",
       "      <td>0.681818</td>\n",
       "      <td>0.2</td>\n",
       "      <td>0.493153</td>\n",
       "      <td>1.0</td>\n",
       "      <td>0.000000</td>\n",
       "      <td>0.800000</td>\n",
       "      <td>0.521739</td>\n",
       "      <td>0.966102</td>\n",
       "    </tr>\n",
       "    <tr>\n",
       "      <th>3</th>\n",
       "      <td>0.666667</td>\n",
       "      <td>0.5</td>\n",
       "      <td>0.625</td>\n",
       "      <td>0.727273</td>\n",
       "      <td>0.2</td>\n",
       "      <td>0.448181</td>\n",
       "      <td>1.0</td>\n",
       "      <td>0.000000</td>\n",
       "      <td>0.233333</td>\n",
       "      <td>0.826087</td>\n",
       "      <td>0.830508</td>\n",
       "    </tr>\n",
       "    <tr>\n",
       "      <th>4</th>\n",
       "      <td>0.666667</td>\n",
       "      <td>0.5</td>\n",
       "      <td>0.625</td>\n",
       "      <td>0.681818</td>\n",
       "      <td>0.2</td>\n",
       "      <td>0.358237</td>\n",
       "      <td>0.0</td>\n",
       "      <td>1.000000</td>\n",
       "      <td>0.900000</td>\n",
       "      <td>0.260870</td>\n",
       "      <td>0.830508</td>\n",
       "    </tr>\n",
       "  </tbody>\n",
       "</table>\n",
       "</div>"
      ],
      "text/plain": [
       "   ChannelId  PricingStrategy  ProductCategory  ProductId  ProviderId  \\\n",
       "0   0.333333              0.5            0.750   0.636364         0.4   \n",
       "1   0.333333              1.0            0.625   0.681818         0.4   \n",
       "2   0.666667              0.5            0.625   0.681818         0.2   \n",
       "3   0.666667              0.5            0.625   0.727273         0.2   \n",
       "4   0.666667              0.5            0.625   0.681818         0.2   \n",
       "\n",
       "      Value  Transaction_year  Transaction_month  Transaction_day  \\\n",
       "0  0.253815               1.0           0.000000         0.400000   \n",
       "1  0.403209               0.0           0.909091         0.466667   \n",
       "2  0.493153               1.0           0.000000         0.800000   \n",
       "3  0.448181               1.0           0.000000         0.233333   \n",
       "4  0.358237               0.0           1.000000         0.900000   \n",
       "\n",
       "   Transaction_hour  Transaction_minute  \n",
       "0          0.826087            0.000000  \n",
       "1          0.304348            0.016949  \n",
       "2          0.521739            0.966102  \n",
       "3          0.826087            0.830508  \n",
       "4          0.260870            0.830508  "
      ]
     },
     "execution_count": 18,
     "metadata": {},
     "output_type": "execute_result"
    }
   ],
   "source": [
    "X_train.head(5)"
   ]
  },
  {
   "cell_type": "code",
   "execution_count": 61,
   "metadata": {
    "collapsed": true
   },
   "outputs": [],
   "source": [
    "#Top 5: ChannelId,PricingStrategy,ProductId,ProviderId,Value"
   ]
  },
  {
   "cell_type": "code",
   "execution_count": null,
   "metadata": {
    "collapsed": true
   },
   "outputs": [],
   "source": []
  },
  {
   "cell_type": "markdown",
   "metadata": {},
   "source": [
    "#### Feature Extraction with RFE"
   ]
  },
  {
   "cell_type": "code",
   "execution_count": 24,
   "metadata": {},
   "outputs": [
    {
     "name": "stdout",
     "output_type": "stream",
     "text": [
      "Num Features:\n",
      "6\n",
      "Selected Features:\n",
      "[ True  True False False  True  True  True  True False False False]\n",
      "Feature Ranking: %s\n",
      "[1 1 3 2 1 1 1 1 5 6 4]\n"
     ]
    }
   ],
   "source": [
    "# feature extraction\n",
    "model = LogisticRegression()\n",
    "rfe = RFE(model, 6)\n",
    "fit = rfe.fit(X, Y)\n",
    "print(\"Num Features:\")\n",
    "print(fit.n_features_)\n",
    "\n",
    "print(\"Selected Features:\")\n",
    "print(fit.support_)\n",
    "\n",
    "print(\"Feature Ranking: %s\")\n",
    "print(fit.ranking_)"
   ]
  },
  {
   "cell_type": "code",
   "execution_count": 25,
   "metadata": {
    "collapsed": true
   },
   "outputs": [],
   "source": [
    "#Top 5: PricingStrategy, ProviderId, Value, Transaction_year, Transaction_month"
   ]
  },
  {
   "cell_type": "code",
   "execution_count": 26,
   "metadata": {},
   "outputs": [
    {
     "data": {
      "text/plain": [
       "Index(['ChannelId', 'PricingStrategy', 'ProviderId', 'Value',\n",
       "       'Transaction_year', 'Transaction_month'],\n",
       "      dtype='object')"
      ]
     },
     "execution_count": 26,
     "metadata": {},
     "output_type": "execute_result"
    }
   ],
   "source": [
    "# this is how we can make a list of the selected features\n",
    "selected_feat = X_train.columns[(fit.support_)]\n",
    "selected_feat"
   ]
  },
  {
   "cell_type": "markdown",
   "metadata": {},
   "source": [
    "#### Feature Importance with Extra Trees Classifier"
   ]
  },
  {
   "cell_type": "code",
   "execution_count": 27,
   "metadata": {},
   "outputs": [
    {
     "name": "stdout",
     "output_type": "stream",
     "text": [
      "[ 0.009  0.033  0.017  0.028  0.062  0.561  0.002  0.02   0.092  0.08\n",
      "  0.095]\n"
     ]
    }
   ],
   "source": [
    "# feature extraction\n",
    "model = ExtraTreesClassifier()\n",
    "model.fit(X, Y)\n",
    "print(model.feature_importances_)"
   ]
  },
  {
   "cell_type": "code",
   "execution_count": null,
   "metadata": {
    "collapsed": true
   },
   "outputs": [],
   "source": [
    "# Most important features: Value, Transaction_minute, Transaction_day, ProviderId, PricingStrategy"
   ]
  },
  {
   "cell_type": "code",
   "execution_count": null,
   "metadata": {
    "collapsed": true
   },
   "outputs": [],
   "source": [
    "# This features cut across the 3 selection processes used: value, providerid, PricingStrategy"
   ]
  },
  {
   "cell_type": "code",
   "execution_count": 28,
   "metadata": {
    "collapsed": true
   },
   "outputs": [],
   "source": [
    "# save the selected list of features\n",
    "# only value selected to test with\n",
    "pd.Series(selected_feat).to_csv('../data/processed/selected_features.csv', index=False)"
   ]
  },
  {
   "cell_type": "code",
   "execution_count": null,
   "metadata": {
    "collapsed": true
   },
   "outputs": [],
   "source": []
  }
 ],
 "metadata": {
  "kernelspec": {
   "display_name": "Python 3",
   "language": "python",
   "name": "python3"
  },
  "language_info": {
   "codemirror_mode": {
    "name": "ipython",
    "version": 3
   },
   "file_extension": ".py",
   "mimetype": "text/x-python",
   "name": "python",
   "nbconvert_exporter": "python",
   "pygments_lexer": "ipython3",
   "version": "3.6.3"
  }
 },
 "nbformat": 4,
 "nbformat_minor": 2
}
